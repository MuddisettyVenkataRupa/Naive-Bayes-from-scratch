{
 "cells": [
  {
   "cell_type": "code",
   "execution_count": 17,
   "metadata": {},
   "outputs": [],
   "source": [
    "#algorithm\n",
    "#https://github.com/SebastianMantey/Naive-Bayes-from-Scratch/blob/main/notebooks/YouTube_videos/03%20-%20second%20step%20of%20algorithm.ipynb"
   ]
  },
  {
   "cell_type": "code",
   "execution_count": 18,
   "metadata": {},
   "outputs": [],
   "source": [
    "import pandas as pd"
   ]
  },
  {
   "cell_type": "code",
   "execution_count": 19,
   "metadata": {},
   "outputs": [],
   "source": [
    "df_train=pd.read_csv(\"processed_train2.csv\",index_col='PassengerId')\n",
    "df_test=pd.read_csv(\"processed_test2.csv\",index_col='PassengerId')"
   ]
  },
  {
   "cell_type": "code",
   "execution_count": 20,
   "metadata": {},
   "outputs": [],
   "source": [
    "train_data=df_train # training data along with the survived column\n",
    "\n",
    "test_labels=df_test['Survived']\n",
    "\n",
    "test_data=df_test.drop(columns='Survived')"
   ]
  },
  {
   "cell_type": "code",
   "execution_count": 21,
   "metadata": {},
   "outputs": [],
   "source": [
    "def create_table(df, label_column):\n",
    "    table = {}\n",
    "\n",
    "    # determine values for the label\n",
    "    value_counts = df[label_column].value_counts().sort_index()\n",
    "    table[\"class_names\"] = value_counts.index.to_numpy()\n",
    "    table[\"class_counts\"] = value_counts.values\n",
    "\n",
    "    # determine probabilities for the features\n",
    "    for feature in df.drop(label_column, axis=1).columns:\n",
    "        table[feature] = {}\n",
    "\n",
    "        # determine counts\n",
    "        counts = df.groupby(label_column)[feature].value_counts()\n",
    "        df_counts = counts.unstack(label_column)\n",
    "\n",
    "        # add one count to avoid \"problem of rare values\"\n",
    "        if df_counts.isna().any(axis=None):\n",
    "            df_counts.fillna(value=0, inplace=True)\n",
    "            df_counts += 1\n",
    "\n",
    "        # calculate probabilities\n",
    "        df_probabilities = df_counts / df_counts.sum()\n",
    "        for value in df_probabilities.index:\n",
    "            probabilities = df_probabilities.loc[value].to_numpy()\n",
    "            table[feature][value] = probabilities\n",
    "            \n",
    "    return table"
   ]
  },
  {
   "cell_type": "code",
   "execution_count": 22,
   "metadata": {},
   "outputs": [
    {
     "data": {
      "text/plain": [
       "{'class_names': array([0, 1], dtype=int64),\n",
       " 'class_counts': array([439, 273], dtype=int64),\n",
       " 'Pclass': {1: array([0.14578588, 0.38827839]),\n",
       "  2: array([0.17767654, 0.23809524]),\n",
       "  3: array([0.67653759, 0.37362637])},\n",
       " 'Sex': {0: array([0.84965831, 0.34065934]),\n",
       "  1: array([0.15034169, 0.65934066])},\n",
       " 'Age': {0: array([0.04783599, 0.11721612]),\n",
       "  1: array([0.10933941, 0.10989011]),\n",
       "  2: array([0.15489749, 0.1025641 ]),\n",
       "  3: array([0.14806378, 0.17216117]),\n",
       "  4: array([0.18678815, 0.17948718]),\n",
       "  5: array([0.16856492, 0.17216117]),\n",
       "  6: array([0.18451025, 0.14652015])},\n",
       " 'SibSp': {0: array([0.71300448, 0.60714286]),\n",
       "  1: array([0.17713004, 0.31071429]),\n",
       "  2: array([0.03363229, 0.04285714]),\n",
       "  3: array([0.02242152, 0.01785714]),\n",
       "  4: array([0.02690583, 0.01428571]),\n",
       "  5: array([0.01121076, 0.00357143]),\n",
       "  8: array([0.01569507, 0.00357143])},\n",
       " 'Parch': {0: array([0.79820628, 0.66785714]),\n",
       "  1: array([0.10089686, 0.18571429]),\n",
       "  2: array([0.06950673, 0.12142857]),\n",
       "  3: array([0.00672646, 0.01071429]),\n",
       "  4: array([0.00896861, 0.00357143]),\n",
       "  5: array([0.01121076, 0.00714286]),\n",
       "  6: array([0.0044843 , 0.00357143])},\n",
       " 'Fare': {0: array([0.32574032, 0.13553114]),\n",
       "  1: array([0.27107062, 0.20879121]),\n",
       "  2: array([0.23006834, 0.3003663 ]),\n",
       "  3: array([0.14350797, 0.25274725]),\n",
       "  4: array([0.02505695, 0.07692308]),\n",
       "  5: array([0.00455581, 0.02564103])},\n",
       " 'Embarked': {0.0: array([0.78359909, 0.63837638]),\n",
       "  1.0: array([0.13211845, 0.27306273]),\n",
       "  2.0: array([0.08428246, 0.08856089])},\n",
       " 'Title': {1: array([0.79726651, 0.25641026]),\n",
       "  2: array([0.10250569, 0.38827839]),\n",
       "  3: array([0.04783599, 0.26739927]),\n",
       "  4: array([0.02505695, 0.06593407]),\n",
       "  5: array([0.02733485, 0.02197802])},\n",
       " 'Age_Class': {0: array([0.04783599, 0.11721612]),\n",
       "  1: array([0.00455581, 0.03663004]),\n",
       "  2: array([0.03416856, 0.05128205]),\n",
       "  3: array([0.09794989, 0.11355311]),\n",
       "  4: array([0.02961276, 0.06959707]),\n",
       "  5: array([0.02961276, 0.10622711]),\n",
       "  6: array([0.22551253, 0.17582418]),\n",
       "  8: array([0.03644647, 0.06227106]),\n",
       "  9: array([0.10250569, 0.08058608]),\n",
       "  10: array([0.03416856, 0.03663004]),\n",
       "  12: array([0.17539863, 0.0989011 ]),\n",
       "  15: array([0.1047836 , 0.02930403]),\n",
       "  18: array([0.07744875, 0.02197802])},\n",
       " 'relatives': {0: array([0.66517857, 0.4751773 ]),\n",
       "  1: array([0.13616071, 0.24113475]),\n",
       "  2: array([0.07589286, 0.16666667]),\n",
       "  3: array([0.01785714, 0.06737589]),\n",
       "  4: array([0.02455357, 0.0106383 ]),\n",
       "  5: array([0.03571429, 0.0141844 ]),\n",
       "  6: array([0.015625 , 0.0177305]),\n",
       "  7: array([0.01339286, 0.0035461 ]),\n",
       "  10: array([0.015625 , 0.0035461])},\n",
       " 'Fare_Per_Person': {0: array([0.49438202, 0.35125448]),\n",
       "  1: array([0.36404494, 0.42293907]),\n",
       "  2: array([0.08314607, 0.10394265]),\n",
       "  3: array([0.04719101, 0.07885305]),\n",
       "  4: array([0.00898876, 0.03225806]),\n",
       "  5: array([0.00224719, 0.01075269])}}"
      ]
     },
     "execution_count": 22,
     "metadata": {},
     "output_type": "execute_result"
    }
   ],
   "source": [
    "lookup_table = create_table(train_data, label_column=\"Survived\")\n",
    "lookup_table"
   ]
  },
  {
   "cell_type": "code",
   "execution_count": 23,
   "metadata": {},
   "outputs": [],
   "source": [
    "def predict_example(row, lookup_table):\n",
    "    \n",
    "    class_estimates = lookup_table[\"class_counts\"]\n",
    "    for feature in row.index:\n",
    "\n",
    "        try:\n",
    "            value = row[feature]\n",
    "            probabilities = lookup_table[feature][value]\n",
    "            class_estimates = class_estimates * probabilities\n",
    "\n",
    "        # skip in case \"value\" only occurs in test set but not in train set\n",
    "        # (i.e. \"value\" is not in \"lookup_table\")\n",
    "        except KeyError:\n",
    "            continue\n",
    "\n",
    "    index_max_class = class_estimates.argmax()\n",
    "    prediction = lookup_table[\"class_names\"][index_max_class]\n",
    "    \n",
    "    return prediction"
   ]
  },
  {
   "cell_type": "code",
   "execution_count": 24,
   "metadata": {},
   "outputs": [
    {
     "data": {
      "text/plain": [
       "PassengerId\n",
       "745    0\n",
       "160    0\n",
       "503    0\n",
       "815    0\n",
       "589    0\n",
       "dtype: int64"
      ]
     },
     "execution_count": 24,
     "metadata": {},
     "output_type": "execute_result"
    }
   ],
   "source": [
    "predictions = df_test.apply(predict_example, axis=1, args=(lookup_table,))\n",
    "predictions.head()"
   ]
  },
  {
   "cell_type": "code",
   "execution_count": 25,
   "metadata": {},
   "outputs": [
    {
     "name": "stdout",
     "output_type": "stream",
     "text": [
      "Accuracy: 0.810\n"
     ]
    }
   ],
   "source": [
    "predictions_correct = predictions == test_labels\n",
    "accuracy = predictions_correct.mean()\n",
    "print(f\"Accuracy: {accuracy:.3f}\")"
   ]
  },
  {
   "cell_type": "code",
   "execution_count": 26,
   "metadata": {},
   "outputs": [],
   "source": [
    "from sklearn.metrics import confusion_matrix,classification_report"
   ]
  },
  {
   "cell_type": "code",
   "execution_count": 27,
   "metadata": {},
   "outputs": [
    {
     "data": {
      "text/plain": [
       "array([[91, 19],\n",
       "       [15, 54]], dtype=int64)"
      ]
     },
     "execution_count": 27,
     "metadata": {},
     "output_type": "execute_result"
    }
   ],
   "source": [
    "confusion_matrix(test_labels, predictions)\n"
   ]
  },
  {
   "cell_type": "code",
   "execution_count": 28,
   "metadata": {},
   "outputs": [
    {
     "data": {
      "image/png": "[encoded data removed]",
      "text/plain": [
       "<Figure size 432x288 with 2 Axes>"
      ]
     },
     "metadata": {
      "needs_background": "light"
     },
     "output_type": "display_data"
    }
   ],
   "source": [
    "import seaborn as sns\n",
    "import matplotlib.pyplot as plt\n",
    "data=pd.concat([test_labels,predictions],axis=1)\n",
    "\n",
    "\n",
    "confusion_matrix = pd.crosstab(test_labels,predictions, rownames=['Actual'], colnames=['Predicted'])\n",
    "\n",
    "sns.heatmap(confusion_matrix, annot=True)\n",
    "plt.show()\n"
   ]
  },
  {
   "cell_type": "code",
   "execution_count": null,
   "metadata": {},
   "outputs": [],
   "source": []
  },
  {
   "cell_type": "code",
   "execution_count": 29,
   "metadata": {},
   "outputs": [
    {
     "name": "stdout",
     "output_type": "stream",
     "text": [
      "              precision    recall  f1-score   support\n",
      "\n",
      "           0       0.86      0.83      0.84       110\n",
      "           1       0.74      0.78      0.76        69\n",
      "\n",
      "    accuracy                           0.81       179\n",
      "   macro avg       0.80      0.80      0.80       179\n",
      "weighted avg       0.81      0.81      0.81       179\n",
      "\n"
     ]
    }
   ],
   "source": [
    "print(classification_report(test_labels,predictions))"
   ]
  },
  {
   "cell_type": "code",
   "execution_count": 30,
   "metadata": {},
   "outputs": [],
   "source": [
    "train_labels=df_train['Survived']\n",
    "df_train=df_train.drop(columns='Survived')"
   ]
  },
  {
   "cell_type": "code",
   "execution_count": 31,
   "metadata": {},
   "outputs": [],
   "source": [
    "predictions = df_train.apply(predict_example, axis=1, args=(lookup_table,))"
   ]
  },
  {
   "cell_type": "code",
   "execution_count": 32,
   "metadata": {},
   "outputs": [
    {
     "name": "stdout",
     "output_type": "stream",
     "text": [
      "Accuracy: 0.788\n"
     ]
    }
   ],
   "source": [
    "predictions_correct = predictions == train_labels\n",
    "accuracy = predictions_correct.mean()\n",
    "print(f\"Accuracy: {accuracy:.3f}\")"
   ]
  },
  {
   "cell_type": "code",
   "execution_count": null,
   "metadata": {},
   "outputs": [],
   "source": []
  },
  {
   "cell_type": "code",
   "execution_count": null,
   "metadata": {},
   "outputs": [],
   "source": []
  }
 ],
 "metadata": {
  "kernelspec": {
   "display_name": "Python 3",
   "language": "python",
   "name": "python3"
  },
  "language_info": {
   "codemirror_mode": {
    "name": "ipython",
    "version": 3
   },
   "file_extension": ".py",
   "mimetype": "text/x-python",
   "name": "python",
   "nbconvert_exporter": "python",
   "pygments_lexer": "ipython3",
   "version": "3.9.5"
  }
 },
 "nbformat": 4,
 "nbformat_minor": 4
}
